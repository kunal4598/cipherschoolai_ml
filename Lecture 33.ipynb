{
 "cells": [
  {
   "cell_type": "markdown",
   "metadata": {},
   "source": [
    "## Building a Simple Chatbot Using Python\n",
    "\n",
    "### 1. Introduction to NLP and Chatbot Frameworks\n",
    "\n",
    "#### Definition and Importance of NLP\n",
    "\n",
    "Natural Language Processing (NLP) is a field of artificial intelligence that focuses on the interaction between computers and humans through natural language. The ultimate goal of NLP is to enable computers to understand, interpret, and generate human languages in a way that is both meaningful and useful.\n",
    "Applications of NLP:\n",
    "- Sentiment Analysis\n",
    "- Language Translation\n",
    "- Chatbots and Virtual Assistants\n",
    "- Text Summerization\n",
    "- Speech Recognition"
   ]
  },
  {
   "cell_type": "markdown",
   "metadata": {},
   "source": [
    "### Common NLP Tasks\n",
    "Tokenization\n",
    "Tokenization is the process of breaking text into individual words or tokens.\n",
    "Stemming and Lemmatization\n",
    "Stemming and lemmatization are processes of reducing words to their root forms.\n",
    "Stop Words Removal\n",
    "Stop words are common words that add little meaning to text and are often removed in preprocessing."
   ]
  },
  {
   "cell_type": "code",
   "execution_count": null,
   "metadata": {},
   "outputs": [],
   "source": [
    "import nltk\n",
    "nltk.download( 'punkt' )\n",
    "from nltk.tokenize import word_tokenize\n",
    "text=\"Natural Language Processing is fascinating.\"\n",
    "tokens=word.tokenize(text)\n",
    "print (tokens)"
   ]
  },
  {
   "cell_type": "code",
   "execution_count": 1,
   "metadata": {},
   "outputs": [
    {
     "ename": "ModuleNotFoundError",
     "evalue": "No module named 'nltk'",
     "output_type": "error",
     "traceback": [
      "\u001b[1;31m---------------------------------------------------------------------------\u001b[0m",
      "\u001b[1;31mModuleNotFoundError\u001b[0m                       Traceback (most recent call last)",
      "Cell \u001b[1;32mIn[1], line 1\u001b[0m\n\u001b[1;32m----> 1\u001b[0m \u001b[38;5;28;01mfrom\u001b[39;00m \u001b[38;5;21;01mnltk\u001b[39;00m\u001b[38;5;21;01m.\u001b[39;00m\u001b[38;5;21;01mstem\u001b[39;00m \u001b[38;5;28;01mimport\u001b[39;00m PorterStemmer\n\u001b[0;32m      2\u001b[0m stemmer \u001b[38;5;241m=\u001b[39m PorterStemmer()\n\u001b[0;32m      3\u001b[0m words \u001b[38;5;241m=\u001b[39m [\u001b[38;5;124m\"\u001b[39m\u001b[38;5;124mrunning\u001b[39m\u001b[38;5;124m\"\u001b[39m,\u001b[38;5;124m\"\u001b[39m\u001b[38;5;124mran\u001b[39m\u001b[38;5;124m\"\u001b[39m,\u001b[38;5;124m\"\u001b[39m\u001b[38;5;124mruns\u001b[39m\u001b[38;5;124m\"\u001b[39m]\n",
      "\u001b[1;31mModuleNotFoundError\u001b[0m: No module named 'nltk'"
     ]
    }
   ],
   "source": [
    "from nltk.stem import PorterStemmer\n",
    "stemmer = PorterStemmer()\n",
    "words = [\"running\",\"ran\",\"runs\"]\n",
    "stems = [stemmer.stem(word) for word in words]\n",
    "print(stems)"
   ]
  },
  {
   "cell_type": "code",
   "execution_count": null,
   "metadata": {},
   "outputs": [],
   "source": [
    "from nltk.stem import WordNetLemmatizer\n",
    "nltk.download('wordnet')\n",
    "lemmatizer = WordNetLemmatizer()\n",
    "words = [\"running\", \"ran\",\"runs\"]\n",
    "lemmas =[lemmatizer.lemmatize(word, pos='v') for word in words]\n",
    "print(lemmas)"
   ]
  },
  {
   "cell_type": "code",
   "execution_count": null,
   "metadata": {},
   "outputs": [],
   "source": [
    "from nltk.corpus import stopwords\n",
    "nltk.download('stopwords')\n",
    "stop_words = set(stopwords.words('english'))\n",
    "filtered_text = [word for word in tokens if word.lower() not in stop_words]\n",
    "print (filtered_text)"
   ]
  },
  {
   "cell_type": "markdown",
   "metadata": {},
   "source": [
    "## Overview of Popular NLP Libraries\n",
    "### NLTK (Natural Language Toolkit)\n",
    "NLTK is a powerful library for various NLP tasks, including tokenization, stemming, lemmatization, and more.\n",
    "### SpaCy\n",
    "SpaCy is an open-source software library for advanced NLP tasks, known for its speed and efficiency.\n",
    "### TextBlob\n",
    "TextBlob is a simple library for processing textual data, providing easy-to-use APis for common NLP tasks.\n",
    "\n",
    "## Introduction to Chatbot Frameworks\n",
    "### ChatterBot\n",
    "ChatterBot is a Python library that makes it easy to generate automated responses to a user's input.\n",
    "### Rasa\n",
    "Rasa is an open-source framework for building conversational Al, including chatbots and voice assistants."
   ]
  },
  {
   "cell_type": "markdown",
   "metadata": {},
   "source": []
  }
 ],
 "metadata": {
  "kernelspec": {
   "display_name": "Python 3",
   "language": "python",
   "name": "python3"
  },
  "language_info": {
   "codemirror_mode": {
    "name": "ipython",
    "version": 3
   },
   "file_extension": ".py",
   "mimetype": "text/x-python",
   "name": "python",
   "nbconvert_exporter": "python",
   "pygments_lexer": "ipython3",
   "version": "3.9.0"
  }
 },
 "nbformat": 4,
 "nbformat_minor": 2
}
